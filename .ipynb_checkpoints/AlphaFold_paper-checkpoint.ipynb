{
 "cells": [
  {
   "cell_type": "code",
   "execution_count": 16,
   "metadata": {},
   "outputs": [],
   "source": [
    "from Bio.PDB import * \n",
    "from Bio.PDB import MMCIFParser\n",
    "from Bio.PDB.mmcifio import MMCIFIO\n",
    "import nglview as nv\n",
    "import os, glob"
   ]
  },
  {
   "cell_type": "code",
   "execution_count": 13,
   "metadata": {},
   "outputs": [
    {
     "name": "stderr",
     "output_type": "stream",
     "text": [
      "WARNING: The default download format has changed from PDB to PDBx/mmCif\n"
     ]
    },
    {
     "name": "stdout",
     "output_type": "stream",
     "text": [
      "Downloading PDB structure '1F74'...\n"
     ]
    },
    {
     "data": {
      "text/plain": [
       "'/home/ana/AlphaFold_paper/f7/1f74.cif'"
      ]
     },
     "execution_count": 13,
     "metadata": {},
     "output_type": "execute_result"
    }
   ],
   "source": [
    "os.chdir('/home/ana/AlphaFold_paper')\n",
    "pdbl = PDBList()\n",
    "pdbl.retrieve_pdb_file(\"1F74\")"
   ]
  },
  {
   "cell_type": "code",
   "execution_count": 20,
   "metadata": {},
   "outputs": [],
   "source": [
    "def get_Cifs_and_PDBs(PDB_id,path_to_save):\n",
    "    '''Path should be introduced as: '/home/ana/AlphaFold_paper'\n",
    "    PDB_id could be upper or lower\n",
    "    '''\n",
    "    os.chdir(path_to_save)\n",
    "    pdbl = PDBList()\n",
    "    try:\n",
    "        print(\"Retrieving\" + PDB_id + '...')\n",
    "        pdbl.retrieve_pdb_file(PDB_id)\n",
    "    except:\n",
    "         raise TypeError(\"Something went wrong!\") "
   ]
  },
  {
   "cell_type": "code",
   "execution_count": 23,
   "metadata": {},
   "outputs": [],
   "source": [
    "def convert_Cif_to_pdb(path_to_PDB):\n",
    "    '''path should be like: \"/home/ana/AlphaFold_paper/f7/1f74.cif\"\n",
    "    '''\n",
    "    path_to_save = '/'.join(path_to_PDB.split('/')[:-1])\n",
    "    os.chdir(path_to_PDB)\n",
    "    \n",
    "    pdb_name = path_to_PDB.split('/')[-1].replace('cif','')\n",
    "    \n",
    "    parser = MMCIFParser()\n",
    "    structure = parser.get_structure(pdb_name, path_to_PDB)\n",
    "    \n",
    "    io = PDBIO()\n",
    "    io.set_structure(structure)\n",
    "    io.save(pdb_name + \".pdb\")"
   ]
  },
  {
   "cell_type": "code",
   "execution_count": null,
   "metadata": {},
   "outputs": [],
   "source": [
    "\n"
   ]
  },
  {
   "cell_type": "code",
   "execution_count": null,
   "metadata": {},
   "outputs": [],
   "source": []
  }
 ],
 "metadata": {
  "kernelspec": {
   "display_name": "Python 3",
   "language": "python",
   "name": "python3"
  },
  "language_info": {
   "codemirror_mode": {
    "name": "ipython",
    "version": 3
   },
   "file_extension": ".py",
   "mimetype": "text/x-python",
   "name": "python",
   "nbconvert_exporter": "python",
   "pygments_lexer": "ipython3",
   "version": "3.8.5"
  }
 },
 "nbformat": 4,
 "nbformat_minor": 4
}
